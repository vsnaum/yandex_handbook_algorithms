{
 "cells": [
  {
   "cell_type": "markdown",
   "metadata": {},
   "source": [
    "### <b>Перестановки</B>\n",
    "Выведите число перестановок 𝑃(𝑛)\n",
    "\n",
    "<b>Формат ввода</b><br>\n",
    "В первой строке находится одно число 𝑛 (1≤𝑛≤7).\n",
    "\n",
    "<b>Формат вывода</b><br>\n",
    "Выведите ответ на задачу."
   ]
  },
  {
   "cell_type": "code",
   "execution_count": null,
   "metadata": {},
   "outputs": [],
   "source": [
    "with open('input.txt', 'r') as inp:\n",
    "    n = int(inp.read())\n",
    "\n",
    "k=1\n",
    "for i in range(1,n+1):\n",
    "    k *= i\n",
    "\n",
    "print(k)"
   ]
  },
  {
   "cell_type": "markdown",
   "metadata": {},
   "source": [
    "### <b>Сочетания</b>\n",
    "Выведите число сочетаний 𝐶(𝑛,𝑘)\n",
    "\n",
    "<b>Формат ввода</b><br>\n",
    "В первой строке находится два числа 𝑛 (1≤𝑛≤7), 𝑘 (1≤𝑘≤7)\n",
    "\n",
    "<b>Формат вывода</b><br>\n",
    "Выведите ответ на задачу."
   ]
  },
  {
   "cell_type": "code",
   "execution_count": null,
   "metadata": {},
   "outputs": [],
   "source": [
    "with open('input.txt','r') as inp:\n",
    "    ll = inp.read().split()\n",
    "    n,k = int(ll[0]),int(ll[1])\n",
    "\n",
    "n_fact = 1\n",
    "for i in range(1,n+1):\n",
    "    n_fact *= i\n",
    "\n",
    "k_fact = 1\n",
    "for i in range(1,k+1):\n",
    "    k_fact *= i\n",
    "\n",
    "nk_fact = 1\n",
    "for i in range(1,n-k+1):\n",
    "    nk_fact *= i\n",
    "\n",
    "C = int(n_fact / (k_fact*nk_fact))\n",
    "\n",
    "print(C)"
   ]
  },
  {
   "cell_type": "markdown",
   "metadata": {},
   "source": [
    "#### <b>Сочетания с повторениями</b>\n",
    "Выведите число сочетаний с повторением С(n,k).\n",
    "\n",
    "<b>Формат ввода</b><br>\n",
    "В первой строке находятся два числа n (1≤n≤4), k (1≤k≤4).\n",
    "\n",
    "<b>Формат вывода</b><br>\n",
    "Выведите ответ на задачу."
   ]
  },
  {
   "cell_type": "code",
   "execution_count": null,
   "metadata": {},
   "outputs": [],
   "source": [
    "with open('input.txt','r') as inp:\n",
    "    ll = inp.read().split()\n",
    "    n,k = int(ll[0]),int(ll[1])\n",
    "\n",
    "def fact(x):\n",
    "    y = 1\n",
    "    for i in range(1,x+1):\n",
    "        y *= i\n",
    "    return int(y)\n",
    "\n",
    "C = fact(n+k-1) / ( fact(k) * fact(n-1)  )\n",
    "C = int(C)\n",
    "\n",
    "print(C)"
   ]
  }
 ],
 "metadata": {
  "kernelspec": {
   "display_name": "base",
   "language": "python",
   "name": "python3"
  },
  "language_info": {
   "name": "python",
   "version": "3.11.5"
  }
 },
 "nbformat": 4,
 "nbformat_minor": 2
}
