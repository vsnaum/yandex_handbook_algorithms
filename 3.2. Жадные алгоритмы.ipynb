{
 "cells": [
  {
   "cell_type": "markdown",
   "metadata": {},
   "source": [
    "### <b>Бронирование переговорки</b>\n",
    "Задано 𝑛 интервалов. Требуется найти максимальное количество взаимно непересекающихся интервалов.\n",
    "Два интервала пересекаются, если они имеют хотя бы одну общую точку.\n",
    "\n",
    "<b>Формат ввода</b><br>\n",
    "В первой строке задано одно число 𝑛 (1≤𝑛≤100) — количество интервалов.\n",
    "В следующих 𝑛 строках заданы интервалы 𝑙_𝑖, 𝑟_𝑖 (1≤ 𝑙_𝑖 ≤ 𝑟_𝑖 ≤50).\n",
    "\n",
    "<b>Формат вывода</b><br>\n",
    "Выведите ответ на задачу."
   ]
  },
  {
   "cell_type": "code",
   "execution_count": null,
   "metadata": {},
   "outputs": [],
   "source": [
    "with open('input.txt','r') as inp:\n",
    "    lines = inp.readlines()\n",
    "    n_ll = int(lines[0])\n",
    "    ll = lines[1:]\n",
    "    for i in range(len(ll)):\n",
    "        ll[i] = ll[i].split(' ')\n",
    "        ll[i][0] = int(ll[i][0])\n",
    "        ll[i][1] = int(ll[i][1])\n",
    "result = []\n",
    "\n",
    "\n",
    "while len(ll) > 1:\n",
    "    # чемпион\n",
    "    ll.sort(key=lambda x:x[1])\n",
    "    result.append(ll[0])\n",
    "    # ищем и удаляем пересечения с чемпионом\n",
    "    ll.sort(key=lambda x:-x[0])\n",
    "    for i in range(len(ll)-1,0,-1):\n",
    "        if ll[i][0] <= result[-1][1]:\n",
    "            del ll[i]\n",
    "\n",
    "if len(ll) == 1 and len(result)!=0 and (result[-1][1] < ll[0][0]):\n",
    "    result.append(ll[0])\n",
    "elif len(ll) == 1 and len(result)==0:\n",
    "    result.append(ll[0])\n",
    "\n",
    "print(len(result))"
   ]
  }
 ],
 "metadata": {
  "language_info": {
   "name": "python"
  }
 },
 "nbformat": 4,
 "nbformat_minor": 2
}
