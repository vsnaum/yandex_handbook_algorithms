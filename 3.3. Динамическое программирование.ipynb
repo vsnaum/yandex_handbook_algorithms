{
 "cells": [
  {
   "cell_type": "markdown",
   "metadata": {},
   "source": [
    "### <b>Камни</b>\n",
    "\n",
    "Вы играете в игру <<Камни>>: игру для двух игроков с двумя наборами камней по 𝑛 и 𝑚 m штук. С каждым ходом один игрок может взять один камень (из любого набора) или два камня (по одному из обоих). Когда камень забрали, он выходит из игры. Побеждает игрок, который заберет последний камень. Первый ход за вами. Вы и ваш оппонент играете оптимально.\n",
    "\n",
    "<b>Формат ввода</b><br>\n",
    "В первой строке содержится два числа 𝑛 (1≤𝑛≤10), 𝑚 (1≤𝑚≤10) — количество ваших камней и количество камней у вашего оппонента.\n",
    "\n",
    "<b>Формат вывода</b><br>\n",
    "В единственной строке выведите 𝐿𝑜𝑜𝑠𝑒, если вы заведомо проиграете, и 𝑊𝑖𝑛, иначе."
   ]
  },
  {
   "cell_type": "code",
   "execution_count": null,
   "metadata": {},
   "outputs": [],
   "source": [
    "with open('input.txt','r') as f:\n",
    "    s = f.readlines()[0]\n",
    "    n = int(s.split(' ')[0])\n",
    "    m = int(s.split(' ')[1])\n",
    "\n",
    "class Mat():\n",
    "    def __init__(self,m,n):\n",
    "        self.m = m+1\n",
    "        self.n = n+1\n",
    "        self.M = []\n",
    "        for i in range(self.n):\n",
    "            self.M.append(['.' for j in range(self.m)])\n",
    "    def __repr__(self):\n",
    "        s = ''\n",
    "        for i in range(self.n):\n",
    "            for j in range(self.m):\n",
    "                s += self.M[i][j]+' '\n",
    "            s+='\\n'\n",
    "        return (f\"Mat {self.m}x{self.n}\\n{s}\")\n",
    "\n",
    "\n",
    "M = Mat(m,n)\n",
    "\n",
    "for i in range(0,M.n):\n",
    "    for j in range(0,M.m):\n",
    "        if i%2==0 and j%2==0:\n",
    "            M.M[i][j] = 'Loose'\n",
    "        else:\n",
    "            M.M[i][j] = 'Win'\n",
    "\n",
    "print(M.M[n][m])"
   ]
  },
  {
   "cell_type": "markdown",
   "metadata": {},
   "source": [
    "### <b>Камни 2</b>\n",
    "Вы играете в игру <<Камни>>: игру для двух игроков с двумя наборами камней по 𝑛 и 𝑚 штук. С каждым ходом один игрок может забрать следующие комбинации камней:\n",
    "\n",
    "Взять один камень из любого набора.\n",
    "Взять два камня из какого-то одного набора\n",
    "Взять два камня из одного и один из другого.\n",
    "Когда камень забрали, он выходит из игры. Побеждает игрок, который заберет последний камень. Первый ход за вами.\n",
    "\n",
    "Вы и ваш оппонент играете оптимально.\n",
    "\n",
    "<b>Формат ввода</b><br>\n",
    "В первой строке содержится два числа 𝑛 (1≤𝑛≤1000), 𝑚 (1≤𝑚≤1000) — количество ваших камней и количество камней у вашего оппонента.\n",
    "\n",
    "<b>Формат вывода</b><br>\n",
    "В единственной строке выведите 𝐿𝑜𝑜𝑠𝑒, если вы заведомо проиграете, и 𝑊𝑖𝑛, иначе."
   ]
  },
  {
   "cell_type": "code",
   "execution_count": null,
   "metadata": {},
   "outputs": [],
   "source": [
    "with open('input.txt','r') as f:\n",
    "    ll = f.readlines()[0]\n",
    "    n = int(ll.split(' ')[0])\n",
    "    m = int(ll.split(' ')[1])\n",
    "\n",
    "def gen_mat(n,m):\n",
    "    mat = []\n",
    "    for i in range(n+1):\n",
    "        mat.append([])\n",
    "        for _ in range(m+1):\n",
    "            mat[i].append('Win')\n",
    "    return mat\n",
    "\n",
    "def try_mat(M,i,j):\n",
    "    if i>=0 and j>=0:\n",
    "        res = M[i][j]\n",
    "    else:    \n",
    "        res = None\n",
    "    return res\n",
    "\n",
    "M = gen_mat(n,m)\n",
    "\n",
    "for i in range(n+1):\n",
    "    for j in range(m+1):\n",
    "        ll = [try_mat(M, i ,j-1),try_mat(M,i-1,j), try_mat(M, i ,j-2),try_mat(M,i-2,j), try_mat(M,i-1,j-2),try_mat(M,i-2,j-1)]\n",
    "        if  'Loose' not in ll:\n",
    "            M[i][j] = 'Loose'\n",
    "\n",
    "print(M[n][m])"
   ]
  }
 ],
 "metadata": {
  "language_info": {
   "name": "python"
  }
 },
 "nbformat": 4,
 "nbformat_minor": 2
}
