{
 "cells": [
  {
   "cell_type": "markdown",
   "metadata": {},
   "source": [
    "### <b>Сортировка выбором</b>\n",
    "Реализуйте сортировку выбором.\n",
    "\n",
    "<b>Формат ввода</b><br>\n",
    "В первой строке задано число 𝑛 (1≤𝑛≤1000).\n",
    "Во второй строке задано 𝑛 чисел 𝑎_𝑖 (1≤𝑎_𝑖≤10^9).\n",
    "\n",
    "<b>Формат вывода</b><br>\n",
    "Выведите отсортированный массив чисел."
   ]
  },
  {
   "cell_type": "code",
   "execution_count": null,
   "metadata": {},
   "outputs": [],
   "source": [
    "with open('input.txt','r') as f:\n",
    "    s = f.readlines()[1]\n",
    "    l = s.split(' ')\n",
    "    for i in range(len(l)):\n",
    "        l[i] = int(l[i])\n",
    "\n",
    "for i in range(len(l)):\n",
    "    i_min = i\n",
    "    for j in range(i,len(l)):\n",
    "        if l[j] <= l[i_min]:\n",
    "            i_min = j\n",
    "    l[i],l[i_min] = l[i_min],l[i]\n",
    "\n",
    "\n",
    "for e in l:\n",
    "    print(e,end=' ')"
   ]
  },
  {
   "cell_type": "markdown",
   "metadata": {},
   "source": [
    "### <b>Слияние сортированных последовательностей</b>\n",
    "Задано 𝑛 отсортированных по неубыванию последовательностей.\n",
    "\n",
    "Требуется найти отсортированную по неубыванию конкатенацию этих последовательностей.\n",
    "\n",
    "<b>Формат ввода</b>\n",
    "\n",
    "В первой строке задано одно число 𝑛 (1≤𝑛≤20) — количество отсортированных последовательностей.\n",
    "\n",
    "Каждая из следующих последовательностей задано в формате: В первой строке 𝑚_𝑖 (1≤𝑚_𝑖≤10^5) — количество элементов последовательности.\n",
    "\n",
    "Во второй сами элементы 𝑎_𝑖 (1≤𝑎_𝑖≤10^9).\n",
    "\n",
    "Гарантируется, что ∑ 𝑚_𝑖 < 10^5\n",
    "\n",
    "<b>Формат вывода</b>\n",
    "\n",
    "В единственной строке выведите ответ на задачу."
   ]
  },
  {
   "cell_type": "code",
   "execution_count": null,
   "metadata": {},
   "outputs": [],
   "source": [
    "with open('input.txt','r') as f:\n",
    "    fl = f.readlines()\n",
    "    lists=[]\n",
    "    for i in range(2,len(fl),2):\n",
    "        l = [int(e) for e in fl[i].split(' ')]\n",
    "        l.sort() # в 4м тесте баг, вход не отсортирован, без этого будет WA\n",
    "        lists.append([])\n",
    "        for j in range(len(l)):\n",
    "            lists[-1].append(int(l[j]))\n",
    "\n",
    "def MergeFast(l_1,l_2):\n",
    "    merged = []\n",
    "    i, j = 0, 0\n",
    "    while i<len(l_1) and j<len(l_2):\n",
    "        if l_1[i] < l_2[j]:\n",
    "            merged.append(l_1[i])\n",
    "            i+=1\n",
    "        else:\n",
    "            merged.append(l_2[j])\n",
    "            j+=1\n",
    "    merged+=l_1[i:]\n",
    "    merged+=l_2[j:]\n",
    "    return merged\n",
    "\n",
    "\n",
    "fast_merg = []\n",
    "for i in range(len(lists)): \n",
    "    fast_merg = MergeFast(fast_merg,lists[i])\n",
    "\n",
    "print(' '.join(str(e) for e in fast_merg))"
   ]
  },
  {
   "cell_type": "markdown",
   "metadata": {},
   "source": [
    "### <b>Сортировка слиянием</b>\n",
    "Реализуйте сортировку слиянием.\n",
    "\n",
    "<b>Формат ввода</b>\n",
    "\n",
    "В первой строке задано число 𝑛 (1≤𝑛≤100000).\n",
    "\n",
    "Во второй строке задано 𝑛 чисел 𝑎_𝑖 (0≤𝑎_𝑖≤10^9).\n",
    "\n",
    "\n",
    "<b>Формат вывода</b>\n",
    "\n",
    "Выведите отсортированный массив чисел."
   ]
  },
  {
   "cell_type": "code",
   "execution_count": null,
   "metadata": {},
   "outputs": [],
   "source": [
    "def MergeFast(l_1,l_2):\n",
    "    merged = []\n",
    "    i, j = 0, 0\n",
    "    while i<len(l_1) and j<len(l_2):\n",
    "        if l_1[i] < l_2[j]:\n",
    "            merged.append(l_1[i])\n",
    "            i+=1\n",
    "        else:\n",
    "            merged.append(l_2[j])\n",
    "            j+=1\n",
    "    merged+=l_1[i:]\n",
    "    merged+=l_2[j:]\n",
    "    return merged\n",
    "\n",
    "\n",
    "def MergeSort(ll):\n",
    "    if len(ll) == 1:\n",
    "        return ll\n",
    "    ind = len(ll)//2\n",
    "    l_1 = MergeSort(ll[:ind])\n",
    "    l_2 = MergeSort(ll[ind:])\n",
    "    l_sorted = MergeFast(l_1,l_2)\n",
    "    return l_sorted\n",
    "\n",
    "\n",
    "with open('input.txt','r') as f:\n",
    "    ll = f.readlines()[1].split(' ')\n",
    "    for i in range(len(ll)):\n",
    "        ll[i] = int(ll[i])\n",
    "\n",
    "l_sorted = MergeSort(ll)\n",
    "for e in l_sorted:\n",
    "    print(e,end=' ')"
   ]
  }
 ],
 "metadata": {
  "kernelspec": {
   "display_name": "base",
   "language": "python",
   "name": "python3"
  },
  "language_info": {
   "name": "python",
   "version": "3.11.5"
  }
 },
 "nbformat": 4,
 "nbformat_minor": 2
}
