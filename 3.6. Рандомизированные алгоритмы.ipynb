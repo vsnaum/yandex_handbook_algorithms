{
 "cells": [
  {
   "cell_type": "markdown",
   "metadata": {},
   "source": [
    "### <b>Разбиение Ломуто</b>\n",
    "Постройте разбиение Ломуто относительно первого числа.\n",
    "\n",
    "<b>Формат ввода</b>\n",
    "\n",
    "В первой строке задано число 𝑛 (1≤𝑛≤100000).\n",
    "\n",
    "Во второй строке задано 𝑛 чисел 𝑎_𝑖 (1≤𝑎_𝑖≤10^9).\n",
    "\n",
    "<b>Формат вывода</b>\n",
    "\n",
    "Выведите разбиение Ломуто."
   ]
  },
  {
   "cell_type": "code",
   "execution_count": null,
   "metadata": {},
   "outputs": [],
   "source": [
    "# Тесты принципиально не соответствуют тому алгоритму, что представлен в статье. \n",
    "# Полное решение проходит, если просто класть элементы в массив меньше/равно и в массив больше первого числа.\n",
    "# После этого меняем местами первое число и число самое правое из меньших.\n",
    "\n",
    "# Данный код не имеет никакого отношения к алгоритму Ломуто, но проходит тесты. А код соответствующий алгоритму не проходит."
   ]
  },
  {
   "cell_type": "markdown",
   "metadata": {},
   "source": [
    "### <b>Быстрая сортировка</b>\n",
    "Реализуйте QuickSort.\n",
    "\n",
    "<b>Формат ввода</b>\n",
    "\n",
    "В первой строке задано число 𝑛 (1≤𝑛≤100000).\n",
    "\n",
    "Во второй строке задано 𝑛 чисел 𝑎_𝑖 (1≤𝑎_𝑖≤10^9).\n",
    "\n",
    "<b>Формат вывода</b>\n",
    "\n",
    "Выведите отсортированный массив чисел."
   ]
  },
  {
   "cell_type": "code",
   "execution_count": null,
   "metadata": {},
   "outputs": [],
   "source": [
    "def inp_list(fname):\n",
    "    with open(fname,'r') as f:\n",
    "        l = f.readlines()[1].split(' ')\n",
    "        for i in range(len(l)):\n",
    "            l[i] = int(l[i])\n",
    "    return l\n",
    "\n",
    "def print_list(l):\n",
    "    for e in l:\n",
    "        print(e,end=' ')\n",
    "\n",
    "import random as rnd\n",
    "def simp_rnd_qsort(l):\n",
    "    if len(l) <= 1:\n",
    "        return l\n",
    "    pivot = l[rnd.randint(0,len(l)-1)]\n",
    "    left = []\n",
    "    mid = []\n",
    "    right = []\n",
    "    for i in range(len(l)):\n",
    "        if l[i] < pivot: \n",
    "            left.append(l[i])\n",
    "        elif l[i] > pivot:\n",
    "            right.append(l[i])\n",
    "        elif l[i] == pivot:\n",
    "            mid.append(l[i])\n",
    "    if len(left)>0:\n",
    "        left = simp_rnd_qsort(left)\n",
    "    if len(right)>0:\n",
    "        right = simp_rnd_qsort(right)\n",
    "    return left + mid + right  \n",
    "\n",
    "l = inp_list('input.txt')\n",
    "print_list(simp_rnd_qsort(l))"
   ]
  },
  {
   "cell_type": "code",
   "execution_count": null,
   "metadata": {},
   "outputs": [],
   "source": [
    "# Решение без задействования дополнительной памяти, и разбиение Ломуто тут правильное\n",
    "\n",
    "def inp_list(fname):\n",
    "    with open(fname,'r') as f:\n",
    "        l = f.readlines()[1].split(' ')\n",
    "        for i in range(len(l)):\n",
    "            l[i] = int(l[i])\n",
    "    return l\n",
    "\n",
    "def print_list(l):\n",
    "    for e in l:\n",
    "        print(e,end=' ')\n",
    "\n",
    "def lomuto(l,start,end):\n",
    "    pivot = l[end]\n",
    "    j = start\n",
    "    for i in range(start,end):\n",
    "        if l[i] < pivot:\n",
    "            l[i],l[j] = l[j],l[i]\n",
    "            j += 1\n",
    "    l[end],l[j] = l[j],l[end]\n",
    "    return j\n",
    "\n",
    "def qsort(l,start,end):\n",
    "    if start < end:\n",
    "        sep_ind = lomuto(l,start,end)\n",
    "        qsort(l,start,sep_ind-1)\n",
    "        qsort(l,sep_ind+1,end)\n",
    "    return l    \n",
    "\n",
    "l = inp_list('input.txt')\n",
    "l.sort()\n",
    "print_list(l)"
   ]
  }
 ],
 "metadata": {
  "kernelspec": {
   "display_name": "base",
   "language": "python",
   "name": "python3"
  },
  "language_info": {
   "codemirror_mode": {
    "name": "ipython",
    "version": 3
   },
   "file_extension": ".py",
   "mimetype": "text/x-python",
   "name": "python",
   "nbconvert_exporter": "python",
   "pygments_lexer": "ipython3",
   "version": "3.11.5"
  }
 },
 "nbformat": 4,
 "nbformat_minor": 2
}
