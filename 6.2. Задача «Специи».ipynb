{
 "cells": [
  {
   "cell_type": "markdown",
   "metadata": {},
   "source": [
    "### <b>Специи</b>\n",
    "\n",
    "Вор пробрался в лавку специй и нашел там 𝑛 видов специй. В его рюкзак можно сложить до 𝑊 фунтов, поэтому забрать все он не сможет. Предположим, в лавке находится 𝑤_𝑖  фунтов специй с номером 𝑖 и стоимостью 𝑐_𝑖 долларов.\n",
    "\n",
    "Как унести максимально дорогую добычу? Если вор заберет 𝑢_1  фунтов специй с номером 1, 𝑢_2  фунтов специй с номером 2, 𝑢_3  фунтов специй с номером 3 и т. д., общая ценность украденного составит с_1 ⋅ 𝑢_1/𝑤_1 + с_2 ⋅ 𝑢_2/𝑤_2 + с_3 ⋅ 𝑢_3/𝑤_3 + … 𝑐_𝑛 ⋅ 𝑢_𝑛/𝑤_𝑛.\n",
    "\n",
    "Вор хотел бы найти максимальное значение этого выражения при следующих ограничениях: 𝑢_𝑖 ≤ 𝑤_𝑖, 𝑢_1 + 𝑢_2 + … + 𝑢_𝑛 ≤ 𝑊.\n",
    "\n",
    "<b>Формат ввода</b>\n",
    "\n",
    "Первая строка ввода содержит 𝑛 специй и вместимость рюкзака 𝑊. Следующие 𝑛 строк указывают цену и вес специй. \n",
    "\n",
    "𝑖-я строка включает в себя цену 𝑐_𝑖 и вес 𝑤_𝑖 𝑖-й специи.\n",
    "\n",
    "<b>Ограничения: </b>\n",
    "\n",
    "1≤𝑛≤10^3, 0≤𝑊≤2⋅10^6, 0≤𝑐_𝑖≤2⋅10^6, 0<𝑤_𝑖≤2⋅10^6 для всех 1≤𝑖≤𝑛. Все числа — целые.\n",
    "\n",
    "<b>Формат вывода</b>\n",
    "\n",
    "Максимальное значение специй, которые вместятся в рюкзак."
   ]
  },
  {
   "cell_type": "code",
   "execution_count": null,
   "metadata": {},
   "outputs": [],
   "source": [
    "def read_inp(file='input.txt'):\n",
    "    with open(file,'r') as f:\n",
    "        lines = f.readlines()\n",
    "        w = int(lines[0].split(' ')[1])\n",
    "        spec = []\n",
    "        for l in lines[1:]:\n",
    "            spec.append(tuple(int(i) for i in l.split(' ')))\n",
    "        return w, spec\n",
    "    \n",
    "max_w, spec = read_inp()\n",
    "\n",
    "\n",
    "def MaxLoot(max_w, spec):\n",
    "    spec.sort(key=lambda x: x[0]/x[1])\n",
    "    w = 0\n",
    "    loot = 0\n",
    "    while w < max_w and len(spec)>0:\n",
    "        for i in range(len(spec)-1,-1,-1):\n",
    "            s = spec[i]\n",
    "            if s[1] <= (max_w - w):\n",
    "                loot += s[0]\n",
    "                w += s[1]\n",
    "                del spec[i]\n",
    "            else:\n",
    "                loot += (max_w - w) * s[0]/s[1]\n",
    "                w += (max_w - w) + 0.00000000001\n",
    "    return loot\n",
    "\n",
    "print(f\"{MaxLoot(max_w, spec):0.4f}\")"
   ]
  },
  {
   "cell_type": "markdown",
   "metadata": {},
   "source": [
    "### <b>Сувениры</b>\n",
    "\n",
    "Турист зашел в сувенирную лавку и нашел там много привлекательных вариантов подарков друзьям и родным. Всего в лавке 𝑛 сувениров, стоимость 𝑖-го сувенира 𝑐_𝑖 рублей.\n",
    "\n",
    "Определите, какое наибольшее количество сувениров сможет купить турист, если он может потратить не более 𝑆 рублей.\n",
    "\n",
    "<b>Формат ввода</b>\n",
    "\n",
    "Первая строка ввода содержит количество сувениров 𝑛 и бюджет на сувениры 𝑆. Следующие 𝑛 строк указывают цену очередного сувенира. 𝑖-я строка включает в себя цену 𝑐_𝑖.\n",
    "\n",
    "<b>Ограничения: </b>\n",
    "\n",
    "1≤𝑛≤10^3, 0≤𝑆≤2⋅10^6, 0≤𝑐_𝑖≤2⋅10^6 для всех 1≤𝑖≤𝑛. Все числа — целые.\n",
    "\n",
    "<b>Формат вывода</b>\n",
    "\n",
    "Максимальное количество сувениров, которые может купить турист."
   ]
  },
  {
   "cell_type": "code",
   "execution_count": null,
   "metadata": {},
   "outputs": [],
   "source": [
    "def read_inp(file='input.txt'):\n",
    "    with open(file,'r') as f:\n",
    "        lines = f.readlines()\n",
    "        w = int(lines[0].split(' ')[1])\n",
    "        spec = []\n",
    "        for l in lines[1:]:\n",
    "            spec.append(int(l))\n",
    "        return w, spec\n",
    "    \n",
    "money, souvs = read_inp()\n",
    "\n",
    "\n",
    "def MaxSouvs(money,souvs):\n",
    "    souvs.sort(reverse=True)\n",
    "    count = 0\n",
    "    while money > 0 and len(souvs) > 0:\n",
    "        for i in range(len(souvs)-1,-1,-1):\n",
    "            if souvs[i] <= money:\n",
    "                count+=1\n",
    "                money -= souvs[i]\n",
    "            del souvs[i]\n",
    "    return count\n",
    "\n",
    "\n",
    "print(MaxSouvs(money,souvs))"
   ]
  }
 ],
 "metadata": {
  "kernelspec": {
   "display_name": "base",
   "language": "python",
   "name": "python3"
  },
  "language_info": {
   "name": "python",
   "version": "3.11.5"
  }
 },
 "nbformat": 4,
 "nbformat_minor": 2
}
