{
 "cells": [
  {
   "cell_type": "markdown",
   "metadata": {},
   "source": [
    "### <b>Сбор подписей</b>\n",
    "\n",
    "Ваша задача — собрать подписи всех жильцов в доме. Вам известно время, в которое каждый из жильцов находится дома. Вы хотели бы собрать все подписи, приходя в дом минимальное количество раз. Для простоты давайте предположим, что вы сразу же собираете подписи всех жильцов, находящихся дома, когда заходите.\n",
    "\n",
    "<b>Формат ввода</b>\n",
    "\n",
    "Количество сегментов в первой строке — 𝑛. Каждая из следующих 𝑛 строк содержит два целых числа 𝑙_𝑖 и 𝑟_𝑖 (разделены пробелом), которые указывают на координаты границ 𝑖-го сегмента.\n",
    "\n",
    "<b>Ограничения: </b>\n",
    "\n",
    "1≤𝑛≤100; 0≤𝑙_𝑖≤𝑟_𝑖≤10^9 для всех 𝑖.\n",
    "\n",
    "<b>Формат вывода</b>\n",
    "\n",
    "Минимальное количество 𝑘 точек на первой строке и координаты 𝑘 точек целыми числами (разделены пробелом) на второй строке. Выводить точки можно в любом порядке. При наличии нескольких наборов точек, можно вывести любой из них."
   ]
  },
  {
   "cell_type": "code",
   "execution_count": null,
   "metadata": {},
   "outputs": [],
   "source": [
    "def read_inp(file='input.txt'):\n",
    "    with open(file,'r') as f:\n",
    "        lines = f.readlines()\n",
    "        intervals = []\n",
    "        for line in lines[1:]:\n",
    "            l,r = line.split(' ')\n",
    "            intervals.append((int(l),int(r)))\n",
    "    return intervals\n",
    "\n",
    "\n",
    "intervals = read_inp()\n",
    "intervals.sort(key = lambda x: -x[1])\n",
    "#print(intervals)\n",
    "\n",
    "visit = intervals[-1][1]\n",
    "visits = [visit]\n",
    "for i in range(len(intervals)-1,-1,-1):\n",
    "    if not (intervals[i][0] <= visit <= intervals[i][1]):\n",
    "        visit = intervals[i][1]\n",
    "        visits.append(visit)\n",
    "\n",
    "print(len(visits))\n",
    "print(' '.join(str(i) for i in visits))\n"
   ]
  },
  {
   "cell_type": "markdown",
   "metadata": {},
   "source": [
    "### <b>Покрытие точек отрезками одинаковой длины</b>\n",
    "\n",
    "Заданы 𝑛 точек на прямой.\n",
    "\n",
    "Выведите наименьшее количество отрезков длины 𝐿, которые необходимы, чтобы покрыть все точки.\n",
    "\n",
    "<b>Формат ввода</b>\n",
    "\n",
    "В первой строке находится два числа 𝑛 и 𝐿. Во второй строке заданы координаты 𝑛 точек 𝑥_𝑖.\n",
    "\n",
    "<b>Ограничения: </b>\n",
    "\n",
    "1≤𝑛≤10^5, 1≤𝐿≤10^9, −10^9≤𝑥_𝑖≤10^9 для всех 𝑖 от 0 до 𝑛-1\n",
    "\n",
    "<b>Формат вывода</b>\n",
    "\n",
    "Наименьшее количество отрезков."
   ]
  },
  {
   "cell_type": "code",
   "execution_count": null,
   "metadata": {},
   "outputs": [],
   "source": [
    "def read_inp(file='input.txt'):\n",
    "    with open(file,'r') as f:\n",
    "        lines = f.readlines()\n",
    "        L = int(lines[0].split(' ')[1])\n",
    "        points = [ int(i) for i in lines[1].split(' ') ]\n",
    "    return L, points\n",
    "\n",
    "L, points = read_inp()\n",
    "#print(L, points)\n",
    "\n",
    "points.sort()\n",
    "\n",
    "count = 1\n",
    "j = 0\n",
    "for i in range(1,len(points)):\n",
    "    if points[i] - points[j] > L:\n",
    "        j = i\n",
    "        count+=1\n",
    "print(count)"
   ]
  },
  {
   "cell_type": "markdown",
   "metadata": {},
   "source": [
    "### <b>Минимальная суммарная длина отрезков</b>\n",
    "\n",
    "Заданы 𝑛 точек на прямой.\n",
    "\n",
    "Выведите минимальную длину 𝑘 отрезков, покрывающих все точки. Отметим, что отрезки могут иметь нулевую длину.\n",
    "\n",
    "<b>Формат ввода</b>\n",
    "\n",
    "В первой строке находится два числа 𝑛 и 𝑘. Во второй строке заданы координаты 𝑛 точек 𝑥_𝑖.\n",
    "\n",
    "<b>Ограничения: </b>\n",
    "\n",
    "1≤𝑛≤10^5, 1≤𝑘≤10^9, −10^9≤𝑥_𝑖≤10^9 для всех 𝑖 от 0 до 𝑛−1\n",
    "\n",
    "<b>Формат вывода</b>\n",
    "\n",
    "Минимальная суммарная длина отрезков."
   ]
  },
  {
   "cell_type": "code",
   "execution_count": null,
   "metadata": {},
   "outputs": [],
   "source": [
    "def read_inp(file='input.txt'):\n",
    "    with open(file,'r') as f:\n",
    "        lines = f.readlines()\n",
    "        k = int(lines[0].split(' ')[1])\n",
    "        points = [ int(i) for i in lines[1].split(' ') ]\n",
    "    return k, points\n",
    "\n",
    "\n",
    "k, points = read_inp()\n",
    "\n",
    "points.sort()\n",
    "#print(k, points)\n",
    "\n",
    "lens = []\n",
    "for i in range(1,len(points)):\n",
    "    lens.append(points[i]-points[i-1])\n",
    "\n",
    "def get_sum_len(lens):\n",
    "    lens.sort()\n",
    "    for _ in range(k-1):\n",
    "        if len(lens)==0:\n",
    "            return 0\n",
    "        del lens[-1]\n",
    "    return sum(lens)\n",
    "\n",
    "print(get_sum_len(lens))"
   ]
  }
 ],
 "metadata": {
  "kernelspec": {
   "display_name": "base",
   "language": "python",
   "name": "python3"
  },
  "language_info": {
   "codemirror_mode": {
    "name": "ipython",
    "version": 3
   },
   "file_extension": ".py",
   "mimetype": "text/x-python",
   "name": "python",
   "nbconvert_exporter": "python",
   "pygments_lexer": "ipython3",
   "version": "3.11.5"
  }
 },
 "nbformat": 4,
 "nbformat_minor": 2
}
